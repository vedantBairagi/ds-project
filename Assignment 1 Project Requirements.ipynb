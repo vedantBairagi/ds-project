{
 "cells": [
  {
   "cell_type": "markdown",
   "id": "f53c014f-aad3-4552-87c8-1034f65d65d1",
   "metadata": {},
   "source": [
    "# Data Science Lab 2021-22 Project - Assignment 1\n",
    "**Sayali Patil - 111903092, Vedant Bairagi - 111903121, Vishwajit Kadam - 111903128**"
   ]
  },
  {
   "cell_type": "markdown",
   "id": "7becccf0",
   "metadata": {},
   "source": [
    "# Restaraunt recommendation system for Pune City\n",
    "\n",
    "**Pune is famous for its rich heritage all over India. But the city is also a paradise for food lovers. As per 2018 there are around 15,000 restaraunts in the district.  \n",
    "Some of these are famous for their special cuisines. It's hard to choose a suitable restaraunt in the city for someone new as well as for the locals also.  \n",
    "Our system will aim to recommend restaraunts to users suitable to their requirements**"
   ]
  },
  {
   "cell_type": "markdown",
   "id": "da15a6f7-bb8c-4c63-b0c3-45b1dcc297a7",
   "metadata": {},
   "source": [
    "![alt text](resta.jpg \"Photo by Jay Wennington on Unsplash\")"
   ]
  },
  {
   "cell_type": "markdown",
   "id": "e7db0ae8",
   "metadata": {},
   "source": [
    "# Project Objectives\n",
    "\n",
    "1. To design a system that recommends restaurants based on the user's preferences, his location and his past interaction with the system.  \n",
    "\n",
    "2. To collect the suitable data about restaurants in Pune city.  \n",
    "\n",
    "3. To analyze the data to find locations where opening new restaurants would be profitable.  \n",
    "\n",
    "4. To avoid congestion at a restaurant, suggest similar nearby restaurant based on live data.\n",
    "\n",
    "5. The project should help not only the customers but also the business owners to assess their competition. \n"
   ]
  },
  {
   "cell_type": "markdown",
   "id": "9e277c06-80c4-49ce-9334-30d58a850313",
   "metadata": {},
   "source": [
    "# Business requirements for the project\n",
    "\n",
    "* Pune is well known for its academic institutions. Many students come from outside to reside. For such users  a recommender system specific to  Pune city is necessary.\n",
    "* Recommeneder system should consider location, budget, crowd at restaurants along with other common parameters.\n",
    "* Location coordinates will help in recommending to customers based on their location as well as to people who are looking to open a new restaraunt.  \n",
    "* Collected data should help us make informed decisions about the profitability of new restaurants in a specific area."
   ]
  },
  {
   "cell_type": "markdown",
   "id": "3fe42940-fdd5-4784-bc61-9f044b755ca0",
   "metadata": {},
   "source": [
    "# Data required\n",
    "\n",
    "For this project we'll need restaraunt data like what kind of food they serve, online ratings, number of reviews, whether they have delivery service, location co-ordinates.  \n",
    "\n",
    "We have scraped above data from Zomato website using Selenium and BeautifulSoup. File formats used are JSON and CSV.\n",
    "\n",
    "Each restaurant has following attributes:  \n",
    "\n",
    "* resId - Unique ID for each restaurant given by Zomato.\n",
    "* name - Full name of restaurant.\n",
    "* cuisines - List of cuisine served by restaurant.\n",
    "* rating - Combined ratings of the restaurant.\n",
    "* rating_votes - Number of votes on which rating is based.\n",
    "* dining_rating - Rating given for dining experience.\n",
    "* dining_review_count - Number of reviews given for dining experience.\n",
    "* delivery_rating - Rating given for delivery experience.\n",
    "* delivery_review_count - Number of reviews given for delivery experience.\n",
    "* timing - Days and time on which restaurant is open.\n",
    "* people_say - Public opinions about the restaurant.\n",
    "* top_dishes - Top dishes served by the restaurant.\n",
    "* address - Detailed address of the restaurant.\n",
    "* longitude, latitude - Location co-ordinates of the restaurant.\n",
    "* url - URL of the Zomato page of the restaurant.\n",
    "* cost_for_two - Approximate cost for two people.\n",
    "\n",
    "Along with this cleaned data in CSV format, we have saved raw data having additional details in JSON format.  \n",
    "Some of them are, safety practices followed by restaurant, payment methods, menu images, contact information, free parking & Wi-Fi availability, highlights etc."
   ]
  },
  {
   "cell_type": "markdown",
   "id": "5f096f48",
   "metadata": {},
   "source": [
    "# Design Model"
   ]
  },
  {
   "cell_type": "markdown",
   "id": "16c79664",
   "metadata": {},
   "source": [
    "![alt text](model.png \"Photo by Jay Wennington on Unsplash\")"
   ]
  },
  {
   "cell_type": "markdown",
   "id": "8c042ef0",
   "metadata": {},
   "source": [
    "# Literature Survey\n",
    "\n",
    "[1] A. Taneja, P. Gupta, A. Garg, A. Bansal, K. P. Grewal and A. Arora, \"Social graph based location recommendation using users' behavior: By locating the best route and dining in best restaurant,\" 2016 Fourth International Conference on Parallel, Distributed and Grid Computing (PDGC), 2016, pp. 488-494, doi: 10.1109/PDGC.2016.7913244.  \n",
    "https://ieeexplore.ieee.org/document/7913244\n",
    "\n",
    "[2] Gao, Yifan & Yu, Wenzhe & Chao, Pingfu & Zhang, Rong & Zhou, Aoying & Yang, Xiaoyan. (2015). A Restaurant Recommendation System by Analyzing Ratings and Aspects in Reviews. 526-530. 10.1007/978-3-319-18123-3_33.  \n",
    "https://www.researchgate.net/publication/312829358_A_Restaurant_Recommendation_System_by_Analyzing_Ratings_and_Aspects_in_Reviews\n",
    "\n",
    "[3] Krishnaraj, Sathya Seelan. (2021). Restaurant Recommendation System Using Machine Learning Algorithms. RIET-IJSET International Journal of Science Engineering and Technology. 9.  \n",
    "https://www.ijset.in/wp-content/uploads/IJSET_V9_issue3_233.pdf"
   ]
  }
 ],
 "metadata": {
  "kernelspec": {
   "display_name": "Python 3 (ipykernel)",
   "language": "python",
   "name": "python3"
  },
  "language_info": {
   "codemirror_mode": {
    "name": "ipython",
    "version": 3
   },
   "file_extension": ".py",
   "mimetype": "text/x-python",
   "name": "python",
   "nbconvert_exporter": "python",
   "pygments_lexer": "ipython3",
   "version": "3.8.10"
  }
 },
 "nbformat": 4,
 "nbformat_minor": 5
}
